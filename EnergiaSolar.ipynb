{
  "cells": [
    {
      "cell_type": "code",
      "execution_count": 10,
      "metadata": {
        "id": "IJW2gd5f5w7R"
      },
      "outputs": [],
      "source": [
        "import pandas as pd\n",
        "import matplotlib.pyplot as plt\n",
        "import imageio"
      ]
    },
    {
      "cell_type": "code",
      "execution_count": 3,
      "metadata": {
        "id": "hb7BmSYGzUHM"
      },
      "outputs": [],
      "source": [
        "df = pd.read_csv(\"/content/energia_solar_Brasil.csv\", header=0, sep=';')\n",
        "df.columns = ['ID',\t'COUNTRY',\t'LON',\t'LAT',\t'ANUAL', 'JAN', 'FEV', 'MAR', 'ABR', 'MAI', 'JUN', 'JUL', 'AGO', 'SET', 'OUT', 'NOV', 'DEZ']\n"
      ]
    },
    {
      "cell_type": "code",
      "execution_count": null,
      "metadata": {
        "id": "txPtyGB4N47H"
      },
      "outputs": [],
      "source": [
        "meses = ['JAN', 'FEV', 'MAR', 'ABR', 'MAI', 'JUN', 'JUL', 'AGO', 'SET', 'OUT', 'NOV', 'DEZ']\n",
        "\n",
        "for mes in meses:\n",
        "  f = df.plot.scatter(y='LAT',x='LON', c=mes, title='Wh/m².dia em '+ mes,cmap='OrRd', vmin='1000', vmax='8000', figsize=(10,8))\n",
        "  ff = plt.gcf()\n",
        "  cax = ff.get_axes()[1]\n",
        "  cax.set_ylabel('Wh/m².dia')  \n",
        "  plt.savefig(mes +'.png')\n",
        "  "
      ]
    },
    {
      "cell_type": "code",
      "execution_count": null,
      "metadata": {
        "id": "yhZjwBDPN9qU"
      },
      "outputs": [],
      "source": [
        "with imageio.get_writer('mygif.gif', mode='I', duration=0.25) as writer:\n",
        "    for arquivo in ['JAN.png', 'FEV.png', 'MAR.png', 'ABR.png', 'MAI.png' , 'JUN.png' , 'JUL.png', 'AGO.png', 'SET.png', 'OUT.png', 'NOV.png', 'DEZ.png']:\n",
        "        image = imageio.imread(arquivo)\n",
        "        writer.append_data(image)\n"
      ]
    }
  ],
  "metadata": {
    "colab": {
      "name": "EnergiaSolar.ipynb",
      "provenance": []
    },
    "kernelspec": {
      "display_name": "Python 3",
      "name": "python3"
    },
    "language_info": {
      "name": "python"
    }
  },
  "nbformat": 4,
  "nbformat_minor": 0
}